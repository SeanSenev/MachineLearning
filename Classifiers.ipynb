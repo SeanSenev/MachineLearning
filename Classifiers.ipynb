{
  "nbformat": 4,
  "nbformat_minor": 0,
  "metadata": {
    "colab": {
      "name": "SeanSeneviratneHW4.ipynb",
      "provenance": []
    },
    "kernelspec": {
      "name": "python3",
      "display_name": "Python 3"
    }
  },
  "cells": [
    {
      "cell_type": "code",
      "metadata": {
        "id": "zMT0aW9QBrK9"
      },
      "source": [
        "import pandas as pd\n",
        "from sklearn.model_selection import train_test_split\n",
        "from sklearn import tree\n",
        "from sklearn import preprocessing\n",
        "from sklearn.metrics import accuracy_score, log_loss\n",
        "from sklearn import metrics\n",
        "import graphviz\n",
        "from sklearn.neural_network import MLPClassifier\n",
        "from sklearn.model_selection import GridSearchCV\n",
        "from sklearn.model_selection import cross_val_score\n",
        "import matplotlib.pyplot as plt\n",
        "from sklearn.metrics import classification_report, confusion_matrix"
      ],
      "execution_count": 11,
      "outputs": []
    },
    {
      "cell_type": "code",
      "metadata": {
        "id": "kgXEJBHfBvOE"
      },
      "source": [
        "data = pd.read_csv(\"Titanic.csv\")\n",
        "data = data[data['age'].notna()]\n",
        "\n",
        "le = preprocessing.LabelEncoder()\n",
        "\n",
        "data['pclass'] = le.fit_transform(data['pclass'])\n",
        "\n",
        "data['sex'] = le.fit_transform(data['sex'])\n",
        "\n",
        "features = ['pclass', 'sex', 'age', 'sibsp']\n",
        "\n",
        "y = data['survived']\n",
        "x = data[features]\n",
        "\n",
        "x_train, x_test, y_train, y_test = train_test_split(x,y, test_size=0.2)"
      ],
      "execution_count": 9,
      "outputs": []
    },
    {
      "cell_type": "code",
      "metadata": {
        "id": "sRB_s9jXByok",
        "outputId": "05ea5e7b-cff9-40b6-b7d4-a416b2df03d5",
        "colab": {
          "base_uri": "https://localhost:8080/"
        }
      },
      "source": [
        "clf = MLPClassifier(solver='adam', alpha=0.001, hidden_layer_sizes=(50, 20), \n",
        "                    random_state=1, activation='logistic', learning_rate_init=0.001) #logistic activation (i.e sigmoid)\n",
        "\n",
        "clf.fit(x_train, y_train)"
      ],
      "execution_count": 14,
      "outputs": [
        {
          "output_type": "stream",
          "text": [
            "/usr/local/lib/python3.6/dist-packages/sklearn/neural_network/_multilayer_perceptron.py:571: ConvergenceWarning: Stochastic Optimizer: Maximum iterations (200) reached and the optimization hasn't converged yet.\n",
            "  % self.max_iter, ConvergenceWarning)\n"
          ],
          "name": "stderr"
        },
        {
          "output_type": "execute_result",
          "data": {
            "text/plain": [
              "MLPClassifier(activation='logistic', alpha=0.001, batch_size='auto', beta_1=0.9,\n",
              "              beta_2=0.999, early_stopping=False, epsilon=1e-08,\n",
              "              hidden_layer_sizes=(50, 20), learning_rate='constant',\n",
              "              learning_rate_init=0.001, max_fun=15000, max_iter=200,\n",
              "              momentum=0.9, n_iter_no_change=10, nesterovs_momentum=True,\n",
              "              power_t=0.5, random_state=1, shuffle=True, solver='adam',\n",
              "              tol=0.0001, validation_fraction=0.1, verbose=False,\n",
              "              warm_start=False)"
            ]
          },
          "metadata": {
            "tags": []
          },
          "execution_count": 14
        }
      ]
    },
    {
      "cell_type": "code",
      "metadata": {
        "id": "nY-pTYcNDl6U",
        "outputId": "01299987-1b61-4e55-ad21-2f6cdad19c1c",
        "colab": {
          "base_uri": "https://localhost:8080/"
        }
      },
      "source": [
        "y_pred = clf.predict(x_test)\n",
        "#print(y_pred) #0 for survival, 1 for death\n",
        "\n",
        "print(accuracy_score(y_test, y_pred))"
      ],
      "execution_count": 15,
      "outputs": [
        {
          "output_type": "stream",
          "text": [
            "0.8476190476190476\n"
          ],
          "name": "stdout"
        }
      ]
    },
    {
      "cell_type": "code",
      "metadata": {
        "id": "iorP0aVUD3Ht",
        "outputId": "03cf8a96-889f-4bb9-8e16-3a848fcc666a",
        "colab": {
          "base_uri": "https://localhost:8080/"
        }
      },
      "source": [
        "\n",
        "clf = MLPClassifier(solver='adam', alpha=0.001, hidden_layer_sizes=(15, 8), random_state=1, activation='logistic', learning_rate_init=0.001) #logistic activation\n",
        "\n",
        "clf.fit(x_train, y_train)\n"
      ],
      "execution_count": 16,
      "outputs": [
        {
          "output_type": "stream",
          "text": [
            "/usr/local/lib/python3.6/dist-packages/sklearn/neural_network/_multilayer_perceptron.py:571: ConvergenceWarning: Stochastic Optimizer: Maximum iterations (200) reached and the optimization hasn't converged yet.\n",
            "  % self.max_iter, ConvergenceWarning)\n"
          ],
          "name": "stderr"
        },
        {
          "output_type": "execute_result",
          "data": {
            "text/plain": [
              "MLPClassifier(activation='logistic', alpha=0.001, batch_size='auto', beta_1=0.9,\n",
              "              beta_2=0.999, early_stopping=False, epsilon=1e-08,\n",
              "              hidden_layer_sizes=(15, 8), learning_rate='constant',\n",
              "              learning_rate_init=0.001, max_fun=15000, max_iter=200,\n",
              "              momentum=0.9, n_iter_no_change=10, nesterovs_momentum=True,\n",
              "              power_t=0.5, random_state=1, shuffle=True, solver='adam',\n",
              "              tol=0.0001, validation_fraction=0.1, verbose=False,\n",
              "              warm_start=False)"
            ]
          },
          "metadata": {
            "tags": []
          },
          "execution_count": 16
        }
      ]
    },
    {
      "cell_type": "code",
      "metadata": {
        "id": "AbmwWCjbEB8G",
        "outputId": "060978ae-c70a-467c-d06f-a008d00abdc1",
        "colab": {
          "base_uri": "https://localhost:8080/"
        }
      },
      "source": [
        "\n",
        "y_pred = clf.predict(x_test)\n",
        "#print(y_pred) #0 for survival, 1 for death\n",
        "print(accuracy_score(y_test, y_pred))\n"
      ],
      "execution_count": 17,
      "outputs": [
        {
          "output_type": "stream",
          "text": [
            "0.819047619047619\n"
          ],
          "name": "stdout"
        }
      ]
    },
    {
      "cell_type": "code",
      "metadata": {
        "id": "NXO8qMBZEFVf",
        "outputId": "06e7aae6-7ef5-4788-ef3b-ff97755dec10",
        "colab": {
          "base_uri": "https://localhost:8080/"
        }
      },
      "source": [
        "clf = MLPClassifier(solver='adam', alpha=0.001, hidden_layer_sizes=(50, 20), random_state=1, activation='relu', learning_rate_init=0.001) \n",
        "\n",
        "clf.fit(x_train, y_train)\n"
      ],
      "execution_count": 18,
      "outputs": [
        {
          "output_type": "execute_result",
          "data": {
            "text/plain": [
              "MLPClassifier(activation='relu', alpha=0.001, batch_size='auto', beta_1=0.9,\n",
              "              beta_2=0.999, early_stopping=False, epsilon=1e-08,\n",
              "              hidden_layer_sizes=(50, 20), learning_rate='constant',\n",
              "              learning_rate_init=0.001, max_fun=15000, max_iter=200,\n",
              "              momentum=0.9, n_iter_no_change=10, nesterovs_momentum=True,\n",
              "              power_t=0.5, random_state=1, shuffle=True, solver='adam',\n",
              "              tol=0.0001, validation_fraction=0.1, verbose=False,\n",
              "              warm_start=False)"
            ]
          },
          "metadata": {
            "tags": []
          },
          "execution_count": 18
        }
      ]
    },
    {
      "cell_type": "code",
      "metadata": {
        "id": "wi_4VzjeELtx",
        "outputId": "a353374b-ac82-4a32-ad8c-c491852ba12e",
        "colab": {
          "base_uri": "https://localhost:8080/"
        }
      },
      "source": [
        "y_pred = clf.predict(x_test)\n",
        "#print(y_pred) #0 for survival, 1 for death\n",
        "print(accuracy_score(y_test, y_pred))\n"
      ],
      "execution_count": 19,
      "outputs": [
        {
          "output_type": "stream",
          "text": [
            "0.8380952380952381\n"
          ],
          "name": "stdout"
        }
      ]
    },
    {
      "cell_type": "code",
      "metadata": {
        "id": "JKasJh8REPE1",
        "outputId": "09d143d2-0b85-4e03-f990-20b2a1f7e1ed",
        "colab": {
          "base_uri": "https://localhost:8080/"
        }
      },
      "source": [
        "clf = MLPClassifier(solver='adam', alpha=0.001, hidden_layer_sizes=(20, 5), random_state=1, activation='logistic', learning_rate_init=0.01, max_iter=400) #logistic activation (i.e sigmoid)\n",
        "\n",
        "clf.fit(x_train, y_train)\n",
        "\n",
        "\n",
        "y_pred = clf.predict(x_test)\n",
        "#print(y_pred) #0 for survival, 1 for death\n",
        "\n",
        "print(accuracy_score(y_test, y_pred))\n",
        "print(confusion_matrix(y_test, y_pred))"
      ],
      "execution_count": 20,
      "outputs": [
        {
          "output_type": "stream",
          "text": [
            "0.8428571428571429\n",
            "[[112  14]\n",
            " [ 19  65]]\n"
          ],
          "name": "stdout"
        }
      ]
    },
    {
      "cell_type": "markdown",
      "metadata": {
        "id": "N7UJBHs3C4pJ"
      },
      "source": [
        "ANN Method:\n",
        "\n",
        "[[112, 14]\n",
        "\n",
        "[19, 65]]\n",
        "\n",
        "True Negatives: 112 \n",
        "False Negatives: 14\n",
        "\n",
        "False Positives: 19\n",
        "True Positives: 65"
      ]
    },
    {
      "cell_type": "markdown",
      "metadata": {
        "id": "fQ14vIgsDXl8"
      },
      "source": [
        "\n",
        "Decision Tree Method:\n",
        "\n",
        "[[116 14]\n",
        "\n",
        "[[ 28 52]]\n",
        "\n",
        "True Negatives: 116, False Negatives: 14\n",
        "\n",
        "False Positives: 28, True Positives: 52"
      ]
    }
  ]
}
