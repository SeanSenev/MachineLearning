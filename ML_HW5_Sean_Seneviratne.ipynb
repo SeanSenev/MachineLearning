{
  "nbformat": 4,
  "nbformat_minor": 0,
  "metadata": {
    "colab": {
      "name": "ML_HW5_Sean_Seneviratne.ipynb",
      "provenance": []
    },
    "kernelspec": {
      "name": "python3",
      "display_name": "Python 3"
    }
  },
  "cells": [
    {
      "cell_type": "code",
      "metadata": {
        "id": "cigd3maUFHjs"
      },
      "source": [
        "##Noise Signal\n",
        "import numpy as np\n",
        "import matplotlib.pyplot as plt\n",
        "from random import random, sample, choice\n",
        "from math import floor\n",
        "from tqdm import tqdm\n",
        "from numpy import array, dot, mean\n",
        "from numpy.linalg import pinv\n",
        "from sys import exit\n",
        "\n",
        "noise_scale=100\n",
        "number_of_samples=50\n",
        "\n",
        "X = 25*(np.random.rand(number_of_samples,1)-.8)\n",
        "Y = 5*X + 20*X**2 + X**3 + noise_scale*np.random.randn(number_of_samples,1)"
      ],
      "execution_count": 22,
      "outputs": []
    },
    {
      "cell_type": "code",
      "metadata": {
        "colab": {
          "base_uri": "https://localhost:8080/",
          "height": 282
        },
        "id": "0_y2p5-c1KC5",
        "outputId": "51ad93f4-ed44-4c07-988b-3d5c5907453f"
      },
      "source": [
        "plt.style.use(['dark_background'])\n",
        "plt.plot(X,Y,'ro')"
      ],
      "execution_count": 23,
      "outputs": [
        {
          "output_type": "execute_result",
          "data": {
            "text/plain": [
              "[<matplotlib.lines.Line2D at 0x7f7a7b20e748>]"
            ]
          },
          "metadata": {
            "tags": []
          },
          "execution_count": 23
        },
        {
          "output_type": "display_data",
          "data": {
            "image/png": "[encoded data removed]",
            "text/plain": [
              "<Figure size 432x288 with 1 Axes>"
            ]
          },
          "metadata": {
            "tags": []
          }
        }
      ]
    },
    {
      "cell_type": "code",
      "metadata": {
        "id": "MEAyU97aTDQ1"
      },
      "source": [
        "flatx=X.flatten()\n",
        "flaty=Y.flatten()\n",
        "\n",
        "m = []\n",
        "a = 1\n"
      ],
      "execution_count": 24,
      "outputs": []
    },
    {
      "cell_type": "code",
      "metadata": {
        "colab": {
          "base_uri": "https://localhost:8080/",
          "height": 282
        },
        "id": "BQ5CcX0x4D0C",
        "outputId": "13a4f3e3-e499-495a-9ada-66a0877972e1"
      },
      "source": [
        "while a < 9:\n",
        "  m.append(np.poly1d(np.polyfit(flatx,flaty,a)))\n",
        "  a+=1\n",
        "\n",
        "plt.plot(X, Y, 'ro') \n",
        "range = np.linspace(-20, 5, 50) \n",
        "plt.plot(range, m[3](range)) "
      ],
      "execution_count": 36,
      "outputs": [
        {
          "output_type": "execute_result",
          "data": {
            "text/plain": [
              "[<matplotlib.lines.Line2D at 0x7f7a7b1429e8>]"
            ]
          },
          "metadata": {
            "tags": []
          },
          "execution_count": 36
        },
        {
          "output_type": "display_data",
          "data": {
            "image/png": "[encoded data removed]",
            "text/plain": [
              "<Figure size 432x288 with 1 Axes>"
            ]
          },
          "metadata": {
            "tags": []
          }
        }
      ]
    },
    {
      "cell_type": "code",
      "metadata": {
        "id": "6f135QUaET5r"
      },
      "source": [
        "def multiple_linear_regression(inputs, outputs):\r\n",
        "    X, Y = array(inputs), array(outputs)\r\n",
        "    X_t, Y_t = X.transpose(), Y.transpose()\r\n",
        "    coeff = dot((pinv((dot(X_t, X)))), (dot(X_t, Y)))\r\n",
        "    Y_p = dot(X, coeff)\r\n",
        "    Y_mean = mean(Y)\r\n",
        "    SST = array([(i - Y_mean) ** 2 for i in Y]).sum()\r\n",
        "    SSR = array([(i - j) ** 2 for i, j in zip(Y, Y_p)]).sum()\r\n",
        "    COD = (1 - (SSR / SST)) * 100.0\r\n",
        "    av_error = (SSR / len(Y))\r\n",
        "    return {'COD': COD, 'coeff': coeff, 'error': av_error}"
      ],
      "execution_count": 27,
      "outputs": []
    },
    {
      "cell_type": "code",
      "metadata": {
        "id": "XXk6emIh4cIv"
      },
      "source": [
        "def check_termination_condition(best_individual):\n",
        "    if ((best_individual['COD'] >= 99.0)\n",
        "            or (generation_count == max_generations)):\n",
        "        return True\n",
        "    else:\n",
        "        return False"
      ],
      "execution_count": 60,
      "outputs": []
    },
    {
      "cell_type": "code",
      "metadata": {
        "id": "KQrKhh2r4mXR"
      },
      "source": [
        "def create_individual(individual_size):\n",
        "      for i in range(len(individual_size)):\n",
        "          return random()\n",
        "  \n",
        "def create_population(individual_size, population_size):\n",
        "  for i in range(len(population_size)):\n",
        "    return create_individual(individual_size)"
      ],
      "execution_count": 72,
      "outputs": []
    },
    {
      "cell_type": "code",
      "metadata": {
        "id": "2H3eoQRz4plm"
      },
      "source": [
        "def get_fitness(individual, inputs):\n",
        "    predicted_outputs = dot(array(inputs), array(individual))\n",
        "    output_mean = mean(outputs)\n",
        "    SST = array(\n",
        "        [(i - output_mean) ** 2 for i in outputs]).sum()\n",
        "    SSR = array(\n",
        "        [(i - j) ** 2 for i, j in zip(outputs, predicted_outputs)]).sum()\n",
        "    COD = (1 - (SSR / SST)) * 100.0\n",
        "    av_error = (SSR / len(outputs))\n",
        "    return {'COD': COD, 'error': av_error, 'coeff': individual}"
      ],
      "execution_count": 30,
      "outputs": []
    },
    {
      "cell_type": "code",
      "metadata": {
        "id": "96nIpL4x4qvT"
      },
      "source": [
        "def evaluate_population(population):\n",
        "    fitness_list = [get_fitness(individual, inputs)\n",
        "                    for individual in tqdm(population)]\n",
        "    error_list = sorted(fitness_list, key=lambda i: i['error'])\n",
        "    best_individuals = error_list[: selection_size]\n",
        "    best_individuals_stash.append(best_individuals[0]['coeff'])\n",
        "    print('Error: ', best_individuals[0]['error'],\n",
        "          'COD: ', best_individuals[0]['COD'])\n",
        "    return best_individuals"
      ],
      "execution_count": 31,
      "outputs": []
    },
    {
      "cell_type": "code",
      "metadata": {
        "id": "eSGkWOBz4wjJ"
      },
      "source": [
        "def crossover(parent_1, parent_2):\n",
        "    child = {}\n",
        "    loci = [i for i in range(0, individual_size)]\n",
        "    loci_1 = sample(loci, floor(0.5*(individual_size)))\n",
        "    loci_2 = [i for i in loci if i not in loci_1]\n",
        "    chromosome_1 = [[i, parent_1['coeff'][i]] for i in loci_1]\n",
        "    chromosome_2 = [[i, parent_2['coeff'][i]] for i in loci_2]\n",
        "    child.update({key: value for (key, value) in chromosome_1})\n",
        "    child.update({key: value for (key, value) in chromosome_2})\n",
        "    return [child[i] for i in loci]"
      ],
      "execution_count": 32,
      "outputs": []
    },
    {
      "cell_type": "code",
      "metadata": {
        "id": "xFEIGPpx4zz9"
      },
      "source": [
        "def mutate(individual):\n",
        "    loci = [i for i in range(0, individual_size)]\n",
        "    no_of_genes_mutated = floor(probability_of_gene_mutating*individual_size)\n",
        "    loci_to_mutate = sample(loci, no_of_genes_mutated)\n",
        "    for locus in loci_to_mutate:\n",
        "        gene_transform = choice([-1, 1])\n",
        "        change = gene_transform*random()\n",
        "        individual[locus] = individual[locus] + change\n",
        "    return individual"
      ],
      "execution_count": 37,
      "outputs": []
    },
    {
      "cell_type": "code",
      "metadata": {
        "id": "v2IqguxA43dg"
      },
      "source": [
        "def get_new_generation(selected_individuals):\n",
        "    parent_pairs = [sample(selected_individuals, 2)\n",
        "                    for i in range(population_size)]\n",
        "    offspring = [crossover(pair[0], pair[1]) for pair in parent_pairs]\n",
        "    offspring_indices = [i for i in range(population_size)]\n",
        "    offspring_to_mutate = sample(\n",
        "        offspring_indices,\n",
        "        floor(probability_of_individual_mutating*population_size)\n",
        "    )\n",
        "    mutated_offspring = [[i, mutate(offspring[i])]\n",
        "                         for i in offspring_to_mutate]\n",
        "    for child in mutated_offspring:\n",
        "        offspring[child[0]] = child[1]\n",
        "    return offspring"
      ],
      "execution_count": 38,
      "outputs": []
    },
    {
      "cell_type": "code",
      "metadata": {
        "id": "9JnKT1DI46tG"
      },
      "source": [
        "inputs = X\n",
        "outputs = Y\n"
      ],
      "execution_count": 39,
      "outputs": []
    },
    {
      "cell_type": "code",
      "metadata": {
        "id": "VcuUU4V76zhI"
      },
      "source": [
        "individual_size = len(inputs[0])\n",
        "population_size = 1000\n",
        "selection_size = floor(0.1*population_size)\n",
        "max_generations = 50\n",
        "probability_of_individual_mutating = 0.1\n",
        "probability_of_gene_mutating = 0.25\n"
      ],
      "execution_count": 44,
      "outputs": []
    },
    {
      "cell_type": "code",
      "metadata": {
        "colab": {
          "base_uri": "https://localhost:8080/"
        },
        "id": "iTHlbUSI9bsf",
        "outputId": "9ea8cec8-d0cb-4866-8c08-825ed030e16c"
      },
      "source": [
        "random()"
      ],
      "execution_count": 56,
      "outputs": [
        {
          "output_type": "execute_result",
          "data": {
            "text/plain": [
              "0.04620685103483135"
            ]
          },
          "metadata": {
            "tags": []
          },
          "execution_count": 56
        }
      ]
    },
    {
      "cell_type": "code",
      "metadata": {
        "id": "xui2IQYbBLAO",
        "outputId": "18d36c92-7b37-48ba-ec8c-096f875b3054",
        "colab": {
          "base_uri": "https://localhost:8080/",
          "height": 282
        }
      },
      "source": [
        "plt.plot(x, y ,'ro')\n",
        "\n",
        "range = np.linspace(-20, 5, 50) # sets 50 pts evenly spaced between -20 and 5\n",
        "plt.plot(range, m[3](range)) # plots 50 pts and uses m6 as the function (of the point)"
      ],
      "execution_count": 74,
      "outputs": [
        {
          "output_type": "execute_result",
          "data": {
            "text/plain": [
              "[<matplotlib.lines.Line2D at 0x7f7a732b9898>]"
            ]
          },
          "metadata": {
            "tags": []
          },
          "execution_count": 74
        },
        {
          "output_type": "display_data",
          "data": {
            "image/png": "[encoded data removed]",
            "text/plain": [
              "<Figure size 432x288 with 1 Axes>"
            ]
          },
          "metadata": {
            "tags": []
          }
        }
      ]
    },
    {
      "cell_type": "code",
      "metadata": {
        "colab": {
          "base_uri": "https://localhost:8080/",
          "height": 334
        },
        "id": "vWOLuTqb6x9g",
        "outputId": "994f84e5-95c1-4070-c42b-d3cd0a6f32b6"
      },
      "source": [
        "initial_population = create_population(individual_size, 1000)\n",
        "current_population = initial_population\n",
        "termination = False\n",
        "generation_count = 0\n",
        "\n",
        "while termination is False:\n",
        "    current_best_individual = get_fitness(best_individuals_stash[-1], inputs)\n",
        "    print('Generation: ', generation_count)\n",
        "    best_individuals = evaluate_population(current_population)\n",
        "    current_population = get_new_generation(best_individuals)\n",
        "    termination = check_termination_condition(current_best_individual)\n",
        "    generation_count += 1\n",
        "else:\n",
        "    print(get_fitness(best_individuals_stash[-1], inputs))"
      ],
      "execution_count": 73,
      "outputs": [
        {
          "output_type": "error",
          "ename": "TypeError",
          "evalue": "ignored",
          "traceback": [
            "\u001b[0;31m---------------------------------------------------------------------------\u001b[0m",
            "\u001b[0;31mTypeError\u001b[0m                                 Traceback (most recent call last)",
            "\u001b[0;32m<ipython-input-73-59dabc903dc6>\u001b[0m in \u001b[0;36m<module>\u001b[0;34m()\u001b[0m\n\u001b[0;32m----> 1\u001b[0;31m \u001b[0minitial_population\u001b[0m \u001b[0;34m=\u001b[0m \u001b[0mcreate_population\u001b[0m\u001b[0;34m(\u001b[0m\u001b[0mindividual_size\u001b[0m\u001b[0;34m,\u001b[0m \u001b[0;36m1000\u001b[0m\u001b[0;34m)\u001b[0m\u001b[0;34m\u001b[0m\u001b[0;34m\u001b[0m\u001b[0m\n\u001b[0m\u001b[1;32m      2\u001b[0m \u001b[0mcurrent_population\u001b[0m \u001b[0;34m=\u001b[0m \u001b[0minitial_population\u001b[0m\u001b[0;34m\u001b[0m\u001b[0;34m\u001b[0m\u001b[0m\n\u001b[1;32m      3\u001b[0m \u001b[0mtermination\u001b[0m \u001b[0;34m=\u001b[0m \u001b[0;32mFalse\u001b[0m\u001b[0;34m\u001b[0m\u001b[0;34m\u001b[0m\u001b[0m\n\u001b[1;32m      4\u001b[0m \u001b[0mgeneration_count\u001b[0m \u001b[0;34m=\u001b[0m \u001b[0;36m0\u001b[0m\u001b[0;34m\u001b[0m\u001b[0;34m\u001b[0m\u001b[0m\n\u001b[1;32m      5\u001b[0m \u001b[0;34m\u001b[0m\u001b[0m\n",
            "\u001b[0;32m<ipython-input-72-7d9d5503b33b>\u001b[0m in \u001b[0;36mcreate_population\u001b[0;34m(individual_size, population_size)\u001b[0m\n\u001b[1;32m      4\u001b[0m \u001b[0;34m\u001b[0m\u001b[0m\n\u001b[1;32m      5\u001b[0m \u001b[0;32mdef\u001b[0m \u001b[0mcreate_population\u001b[0m\u001b[0;34m(\u001b[0m\u001b[0mindividual_size\u001b[0m\u001b[0;34m,\u001b[0m \u001b[0mpopulation_size\u001b[0m\u001b[0;34m)\u001b[0m\u001b[0;34m:\u001b[0m\u001b[0;34m\u001b[0m\u001b[0;34m\u001b[0m\u001b[0m\n\u001b[0;32m----> 6\u001b[0;31m   \u001b[0;32mfor\u001b[0m \u001b[0mi\u001b[0m \u001b[0;32min\u001b[0m \u001b[0mrange\u001b[0m\u001b[0;34m(\u001b[0m\u001b[0mlen\u001b[0m\u001b[0;34m(\u001b[0m\u001b[0mpopulation_size\u001b[0m\u001b[0;34m)\u001b[0m\u001b[0;34m)\u001b[0m\u001b[0;34m:\u001b[0m\u001b[0;34m\u001b[0m\u001b[0;34m\u001b[0m\u001b[0m\n\u001b[0m\u001b[1;32m      7\u001b[0m     \u001b[0;32mreturn\u001b[0m \u001b[0mcreate_individual\u001b[0m\u001b[0;34m(\u001b[0m\u001b[0mindividual_size\u001b[0m\u001b[0;34m)\u001b[0m\u001b[0;34m\u001b[0m\u001b[0;34m\u001b[0m\u001b[0m\n",
            "\u001b[0;31mTypeError\u001b[0m: object of type 'int' has no len()"
          ]
        }
      ]
    },
    {
      "cell_type": "code",
      "metadata": {
        "id": "nCn8RJjPBLjH"
      },
      "source": [
        ""
      ],
      "execution_count": null,
      "outputs": []
    },
    {
      "cell_type": "code",
      "metadata": {
        "id": "l1dDoo_VlTEI"
      },
      "source": [
        ""
      ],
      "execution_count": 73,
      "outputs": []
    },
    {
      "cell_type": "code",
      "metadata": {
        "id": "4DYpitNv2h5f"
      },
      "source": [
        ""
      ],
      "execution_count": null,
      "outputs": []
    }
  ]
}