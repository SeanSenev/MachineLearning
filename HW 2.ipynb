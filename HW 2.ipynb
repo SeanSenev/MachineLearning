{
 "cells": [
  {
   "cell_type": "raw",
   "metadata": {},
   "source": [
    "HW 2 Sean Seneviratne"
   ]
  },
  {
   "cell_type": "code",
   "execution_count": 179,
   "metadata": {},
   "outputs": [],
   "source": [
    "import pandas as pd\n",
    "import numpy as np\n",
    "import matplotlib.pyplot as plt\n",
    "from sklearn import datasets, linear_model\n",
    "from sklearn.metrics import mean_squared_error, r2_score"
   ]
  },
  {
   "cell_type": "code",
   "execution_count": 180,
   "metadata": {},
   "outputs": [],
   "source": [
    "data = pd.read_csv(\"data2.txt\", header=None)"
   ]
  },
  {
   "cell_type": "code",
   "execution_count": 181,
   "metadata": {},
   "outputs": [],
   "source": [
    "X = np.array(data[0]).reshape(-1, 1)\n",
    "Y = np.array(data[1]).reshape(-1, 1)"
   ]
  },
  {
   "cell_type": "code",
   "execution_count": 182,
   "metadata": {},
   "outputs": [
    {
     "data": {
      "text/plain": [
       "<matplotlib.collections.PathCollection at 0x127e2a710>"
      ]
     },
     "execution_count": 182,
     "metadata": {},
     "output_type": "execute_result"
    },
    {
     "data": {
      "image/png": "[encoded data removed]",
      "text/plain": [
       "<Figure size 432x288 with 1 Axes>"
      ]
     },
     "metadata": {},
     "output_type": "display_data"
    }
   ],
   "source": [
    "plt.scatter(X,Y)"
   ]
  },
  {
   "cell_type": "markdown",
   "metadata": {},
   "source": [
    "Normal Equation Solution"
   ]
  },
  {
   "cell_type": "code",
   "execution_count": 183,
   "metadata": {},
   "outputs": [
    {
     "name": "stdout",
     "output_type": "stream",
     "text": [
      "slope = [-3.89578088], intercept = [1.19303364]\n"
     ]
    }
   ],
   "source": [
    "X_b = np.c_[np.ones((97, 1)), X] # add x0 = 1 to each instance\n",
    "theta_best = np.linalg.inv(X_b.T.dot(X_b)).dot(X_b.T).dot(Y)\n",
    "print(f'slope = {theta_best[0]}, intercept = {theta_best[1]}')"
   ]
  },
  {
   "cell_type": "markdown",
   "metadata": {},
   "source": [
    "Sklearn Linear Regression"
   ]
  },
  {
   "cell_type": "code",
   "execution_count": 289,
   "metadata": {
    "scrolled": true
   },
   "outputs": [
    {
     "name": "stdout",
     "output_type": "stream",
     "text": [
      "slope = [-3.89578088], intercept = [[1.19303364]]\n"
     ]
    }
   ],
   "source": [
    "from sklearn.linear_model import LinearRegression\n",
    "lin_reg = LinearRegression()\n",
    "lin_reg.fit(X, Y)\n",
    "print(f'slope = {lin_reg.intercept_}, intercept = {lin_reg.coef_}')"
   ]
  },
  {
   "cell_type": "markdown",
   "metadata": {},
   "source": [
    "Gradient Descent Approach : Batch"
   ]
  },
  {
   "cell_type": "code",
   "execution_count": 126,
   "metadata": {},
   "outputs": [],
   "source": [
    "def cost(params, x, y):\n",
    "    m = len(y)\n",
    "    predictions = x.dot(params)\n",
    "    cost = (1/(2*m)) * np.sum(np.square(predictions - y))\n",
    "    return cost"
   ]
  },
  {
   "cell_type": "code",
   "execution_count": 112,
   "metadata": {},
   "outputs": [],
   "source": [
    "def gradient_descent(x, y, params, learning_rate=0.01, iterations=100):\n",
    "    m = len(y)\n",
    "    cost_history = np.zeros(iterations)\n",
    "    params_history = np.zeros((iterations, 2))\n",
    "\n",
    "    for i in range(iterations):\n",
    "        prediction = np.dot(x, params)\n",
    "        params = params - (1/m)*learning_rate*(x.T.dot((prediction - y)))\n",
    "        params_history[i,:] = params.T\n",
    "        cost_history[i] = cal_cost(params, x, y)\n",
    "  \n",
    "    return theta, cost_history"
   ]
  },
  {
   "cell_type": "code",
   "execution_count": 203,
   "metadata": {},
   "outputs": [],
   "source": [
    "params = np.random.randn(2, 1)\n",
    "iterations = 1000\n",
    "theta, cost_history = gradient_descent(X_b, Y, params, 0.01, iterations)"
   ]
  },
  {
   "cell_type": "code",
   "execution_count": 204,
   "metadata": {},
   "outputs": [
    {
     "name": "stdout",
     "output_type": "stream",
     "text": [
      "slope:[-3.36590736], intercept:[1.1398021]\n"
     ]
    }
   ],
   "source": [
    "print(f\"slope:{theta[0]}, intercept:{theta[1]}\")"
   ]
  },
  {
   "cell_type": "code",
   "execution_count": 205,
   "metadata": {},
   "outputs": [
    {
     "data": {
      "text/plain": [
       "[<matplotlib.lines.Line2D at 0x1281bb2b0>]"
      ]
     },
     "execution_count": 205,
     "metadata": {},
     "output_type": "execute_result"
    },
    {
     "data": {
      "image/png": "[encoded data removed]",
      "text/plain": [
       "<Figure size 432x288 with 1 Axes>"
      ]
     },
     "metadata": {},
     "output_type": "display_data"
    }
   ],
   "source": [
    "plt.xlabel(\"Range\")\n",
    "plt.ylabel(\"Cost\")\n",
    "plt.plot(range(iterations), cost_history)"
   ]
  },
  {
   "cell_type": "markdown",
   "metadata": {},
   "source": [
    "Stochastic Gradient Descent"
   ]
  },
  {
   "cell_type": "code",
   "execution_count": 197,
   "metadata": {},
   "outputs": [],
   "source": [
    "def stochastic_gradient_descent(x, y, params, learning_rate=0.01 ,iterations=100):\n",
    "    m = len(y)\n",
    "    cost_history_sgd = np.zeros(iterations)\n",
    "\n",
    "    for r in range(iterations):\n",
    "        cost = 0\n",
    "    for i in range(m):\n",
    "        rand_ind = np.random.randint(0, m)\n",
    "        x_iter = x[rand_ind,:].reshape(1,x.shape[1])\n",
    "        y_iter = y[rand_ind].reshape(1, 1)\n",
    "        pred = np.dot(x_iter, params)\n",
    "        params = params - (1/m)*learning_rate*(x_iter.T.dot((pred - y_iter)))\n",
    "        cost += cal_cost(params, x_iter, y_iter)\n",
    "        cost_history_sgd[r] = cost \n",
    "  \n",
    "    return params, cost_history_sgd"
   ]
  },
  {
   "cell_type": "code",
   "execution_count": 200,
   "metadata": {},
   "outputs": [],
   "source": [
    "new_params = np.random.randn(2,1)\n",
    "new_iterations = 500\n",
    "params_sgd, cost_history_sgd = stochastic_gradient_descent(X_b, Y, new_params, 0.1, new_iterations)"
   ]
  },
  {
   "cell_type": "code",
   "execution_count": 202,
   "metadata": {},
   "outputs": [
    {
     "data": {
      "text/plain": [
       "[<matplotlib.lines.Line2D at 0x128152f98>]"
      ]
     },
     "execution_count": 202,
     "metadata": {},
     "output_type": "execute_result"
    },
    {
     "data": {
      "image/png": "[encoded data removed]",
      "text/plain": [
       "<Figure size 432x288 with 1 Axes>"
      ]
     },
     "metadata": {},
     "output_type": "display_data"
    }
   ],
   "source": [
    "plt.plot(range(iterations), cost_history)"
   ]
  },
  {
   "cell_type": "code",
   "execution_count": null,
   "metadata": {},
   "outputs": [],
   "source": []
  }
 ],
 "metadata": {
  "kernelspec": {
   "display_name": "Python 3",
   "language": "python",
   "name": "python3"
  },
  "language_info": {
   "codemirror_mode": {
    "name": "ipython",
    "version": 3
   },
   "file_extension": ".py",
   "mimetype": "text/x-python",
   "name": "python",
   "nbconvert_exporter": "python",
   "pygments_lexer": "ipython3",
   "version": "3.6.8"
  }
 },
 "nbformat": 4,
 "nbformat_minor": 2
}
